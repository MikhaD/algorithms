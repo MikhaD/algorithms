{
 "cells": [
  {
   "cell_type": "markdown",
   "metadata": {},
   "source": [
    "# Quick Hull\n",
    "\n",
    "The quick hull algorithm is a divide and conquer algorithm for finding the convex hull of a set of points. It is a variation of the quick sort algorithm. The algorithm is based on the following idea: the convex hull of a set of points is the convex hull of the set of points with the lowest and highest x coordinates, plus the convex hull of the set of points to the left and right of the line connecting the two points with the lowest and highest x coordinates. The algorithm is implemented in the function find_hull.\n",
    "<img src=\"https://raw.githubusercontent.com/MikhaD/algorithms/resources/img/quickhull%20dark.gif?token=GHSAT0AAAAAAB2CEG7X7VQ2MYRNHQ7NAXFQY4DSF7Q\" style=\"width: 300px\"/>"
   ]
  },
  {
   "cell_type": "code",
   "execution_count": 2,
   "metadata": {},
   "outputs": [
    {
     "data": {
      "text/plain": [
       "False"
      ]
     },
     "execution_count": 2,
     "metadata": {},
     "output_type": "execute_result"
    }
   ],
   "source": [
    "from typing import Literal\n",
    "from matplotlib import pyplot as plt\n",
    "\n",
    "point = tuple[int, int]\n",
    "\n",
    "def find_distance(start: point, end: point, p: point) -> int:\n",
    "\t\"\"\"Return a value proportional to the distance between the point and the line segment\"\"\"\n",
    "\treturn (p[1] - start[1]) * (end[0] - start[0]) - (p[0] - start[0]) * (end[1] - start[1])\n",
    "\n",
    "def find_side(val: int) -> Literal[-1, 0, 1]:\n",
    "\t\"\"\"\n",
    "\tReturn 0 if the point is on the line segment, 1 if the point is on the left side of the line\n",
    "\tsegment, -1 if the point is on the right side of the line segment\n",
    "\t\"\"\"\n",
    "\tif val > 0: return 1\n",
    "\tif val < 0: return -1\n",
    "\treturn 0\n",
    "\n",
    "def quick_hull(a: list[point], p1: point, p2: point, side: Literal[-1, 0, 1], hull: set[point]):\n",
    "\t\"\"\"\n",
    "\tThe end points of the line segment are p1 and p2. side is the side of the line segment\n",
    "\t\"\"\"\n",
    "\ti = -1\n",
    "\tmax_dist = 0\n",
    "\ton_line = set()\n",
    "\n",
    "\t# Finding the point with maximum distance from the line segment on the specified side\n",
    "\tfor j in range(len(a)):\n",
    "\t\ttemp = find_distance(p1, p2, a[j])\n",
    "\t\tif find_side(temp) == side and abs(temp) > max_dist:\n",
    "\t\t\ti = j\n",
    "\t\t\tmax_dist = abs(temp)\n",
    "\t\tif temp == 0 and i == -1:\n",
    "\t\t\ton_line.add(a[j])\n",
    "\n",
    "\t# If no point is found, add the end points of the line segment to the hull\n",
    "\tif i == -1:\n",
    "\t\thull.add(p1)\n",
    "\t\thull.add(p2)\n",
    "\t\thull.update(on_line)\n",
    "\t\treturn\n",
    "\n",
    "\tquick_hull(a, a[i], p1, -find_side(find_distance(a[i], p1, p2)), hull)\n",
    "\tquick_hull(a, a[i], p2, -find_side(find_distance(a[i], p2, p1)), hull)\n",
    "\n",
    "def find_hull(trees: list[point]) -> list[point]:\n",
    "\t\"\"\"\n",
    "\tUse the quick hull algorithm to find the convex hull of the given points\n",
    "\t\"\"\"\n",
    "\tif len(trees) <= 3: return trees\n",
    "\tleftmost = trees[0]\n",
    "\trightmost = trees[0]\n",
    "\tfor tree in trees:\n",
    "\t\tif tree[0] < leftmost[0]:\n",
    "\t\t\tleftmost = tree\n",
    "\t\telif tree[0] > rightmost[0]:\n",
    "\t\t\trightmost = tree\n",
    "\n",
    "\tresult = set()\n",
    "\tquick_hull(trees, leftmost, rightmost, 1, result)\n",
    "\tquick_hull(trees, leftmost, rightmost, -1, result)\n",
    "\tdisplay(trees, result)\n",
    "\treturn list(result)\n",
    "\n",
    "def display(points: list[point], hull: set[point]) -> None:\n",
    "\tfor x, y in points:\n",
    "\t\tplt.scatter(x, y, color='blue')\n",
    "\n",
    "\tfor x, y in hull:\n",
    "\t\tplt.scatter(x, y, color='red')\n",
    "\n",
    "\tplt.show()"
   ]
  }
 ],
 "metadata": {
  "kernelspec": {
   "display_name": "Python 3.11.0 64-bit",
   "language": "python",
   "name": "python3"
  },
  "language_info": {
   "codemirror_mode": {
    "name": "ipython",
    "version": 3
   },
   "file_extension": ".py",
   "mimetype": "text/x-python",
   "name": "python",
   "nbconvert_exporter": "python",
   "pygments_lexer": "ipython3",
   "version": "3.11.0"
  },
  "orig_nbformat": 4,
  "vscode": {
   "interpreter": {
    "hash": "67ef567f48cb4ed203e6ad076be280881c9aa093c0120aef856f09396d7c1a14"
   }
  }
 },
 "nbformat": 4,
 "nbformat_minor": 2
}
