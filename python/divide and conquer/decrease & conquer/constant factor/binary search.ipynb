{
 "cells": [
  {
   "cell_type": "code",
   "execution_count": 14,
   "metadata": {},
   "outputs": [],
   "source": [
    "def binary_search(arr: list[int], val: int) -> int:\n",
    "\t\"\"\"\n",
    "\tUse the binary search algorithm to find the index of a value in a sorted array. -1 is returned\n",
    "\tif the value is not found.\n",
    "\t\"\"\"\n",
    "\tlower = 0\n",
    "\tupper = len(arr) - 1\n",
    "\twhile lower < upper:\n",
    "\t\tmid = (lower + upper) // 2\n",
    "\t\tif arr[mid] > val:\n",
    "\t\t\tupper = mid - 1\n",
    "\t\telif arr[mid] < val:\n",
    "\t\t\tlower = mid + 1\n",
    "\t\telse: return mid\n",
    "\treturn -1\n",
    "\n",
    "from random import randint"
   ]
  },
  {
   "cell_type": "code",
   "execution_count": 73,
   "metadata": {},
   "outputs": [
    {
     "name": "stdout",
     "output_type": "stream",
     "text": [
      "[0, 0, 0, 2, 4, 4, 6, 6, 6, 6, 7, 8, 8, 10, 10, 10, 12, 14, 14, 15]\n"
     ]
    },
    {
     "data": {
      "text/plain": [
       "14"
      ]
     },
     "execution_count": 73,
     "metadata": {},
     "output_type": "execute_result"
    }
   ],
   "source": [
    "from random import randint\n",
    "\n",
    "a = sorted([randint(0, 15) for _ in range(20)])\n",
    "print(a)\n",
    "\n",
    "binary_search(a, 10)"
   ]
  }
 ],
 "metadata": {
  "kernelspec": {
   "display_name": "Python 3.10.4 64-bit",
   "language": "python",
   "name": "python3"
  },
  "language_info": {
   "codemirror_mode": {
    "name": "ipython",
    "version": 3
   },
   "file_extension": ".py",
   "mimetype": "text/x-python",
   "name": "python",
   "nbconvert_exporter": "python",
   "pygments_lexer": "ipython3",
   "version": "3.10.4"
  },
  "orig_nbformat": 4,
  "vscode": {
   "interpreter": {
    "hash": "a468216b390d8086c6e68ce635f893df89c6726f4c4bec2701d169cb44bcbe63"
   }
  }
 },
 "nbformat": 4,
 "nbformat_minor": 2
}
