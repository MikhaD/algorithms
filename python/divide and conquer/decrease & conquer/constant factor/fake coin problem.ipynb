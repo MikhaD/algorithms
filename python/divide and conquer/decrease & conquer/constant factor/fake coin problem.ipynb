{
 "cells": [
  {
   "cell_type": "markdown",
   "metadata": {},
   "source": [
    "Not really the best suited for a coding problem, more relevant as a physical algorithm for finding a fake coin."
   ]
  },
  {
   "cell_type": "code",
   "execution_count": null,
   "metadata": {},
   "outputs": [],
   "source": []
  }
 ],
 "metadata": {
  "kernelspec": {
   "display_name": "Python 3.11.0 64-bit",
   "language": "python",
   "name": "python3"
  },
  "language_info": {
   "name": "python",
   "version": "3.11.0"
  },
  "orig_nbformat": 4,
  "vscode": {
   "interpreter": {
    "hash": "67ef567f48cb4ed203e6ad076be280881c9aa093c0120aef856f09396d7c1a14"
   }
  }
 },
 "nbformat": 4,
 "nbformat_minor": 2
}
