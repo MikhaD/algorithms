{
 "cells": [
  {
   "cell_type": "markdown",
   "metadata": {},
   "source": [
    "# Multiplication a la Russe\n",
    "Using doubling and halving instead of multiplication to multiply two integers. This is efficient in hardware because multiplying and dividing by two can be done with bit shift operations.\n",
    "\n",
    "$$\n",
    "\\begin{align*}\n",
    "n*m &= (n/2) * (2m) & \\text{if n is even}\\\\\n",
    "&=((n-1)/2 ) * (2m) + m & \\text{if n is odd }\n",
    "\\end{align*}\n",
    "$$\n",
    "Stop when $n = 1$"
   ]
  },
  {
   "cell_type": "code",
   "execution_count": 25,
   "metadata": {},
   "outputs": [],
   "source": [
    "def russe(n: int, m: int) -> int:\n",
    "\t\"\"\"Multiply two integers using the 'Russian peasant algorithm'.\"\"\"\n",
    "\tif n == 1: return m\n",
    "\tif n == 0 or m == 0: return 0\n",
    "\tif n % 2 == 0:\n",
    "\t\t# using % kind of defeats the point because it is a slow operation, just like\n",
    "\t\t# multiplication, which this algorithm is supposed to be faster than. I have left it in for\n",
    "\t\t# clarity. If you wanted a more efficient version, you could use bitwise operations to check\n",
    "\t\t# if the least significant bit is 0 (even): if n & 1 == 0.\n",
    "\t\treturn russe(n >> 1, m << 1)\n",
    "\treturn russe(n >> 1, m << 1) + m\n"
   ]
  },
  {
   "cell_type": "code",
   "execution_count": 24,
   "metadata": {},
   "outputs": [
    {
     "name": "stdout",
     "output_type": "stream",
     "text": [
      "1000 1000\n",
      " 144  144\n",
      "2898 2898\n"
     ]
    }
   ],
   "source": [
    "print(f\"{russe(50, 20):>4} {50 * 20:>4}\")\n",
    "print(f\"{russe(12, 12):>4} {12 * 12:>4}\")\n",
    "print(f\"{russe(69, 42):>4} {69 * 42:>4}\")"
   ]
  }
 ],
 "metadata": {
  "kernelspec": {
   "display_name": "Python 3.10.4 64-bit",
   "language": "python",
   "name": "python3"
  },
  "language_info": {
   "codemirror_mode": {
    "name": "ipython",
    "version": 3
   },
   "file_extension": ".py",
   "mimetype": "text/x-python",
   "name": "python",
   "nbconvert_exporter": "python",
   "pygments_lexer": "ipython3",
   "version": "3.10.4"
  },
  "orig_nbformat": 4,
  "vscode": {
   "interpreter": {
    "hash": "a468216b390d8086c6e68ce635f893df89c6726f4c4bec2701d169cb44bcbe63"
   }
  }
 },
 "nbformat": 4,
 "nbformat_minor": 2
}
