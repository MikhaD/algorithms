{
 "cells": [
  {
   "cell_type": "markdown",
   "metadata": {},
   "source": [
    "# Greatest Common Denominator\n",
    "This is a simple implementation of the Euclidean algorithm for finding the greatest common denominator of two numbers. GCD is an example of a variable size decrease in the decrease and conquer category of algorithms."
   ]
  },
  {
   "cell_type": "code",
   "execution_count": 1,
   "metadata": {},
   "outputs": [],
   "source": [
    "def gcd(a: int, b: int):\n",
    "\twhile True:\n",
    "\t\tr = a % b\n",
    "\t\tif r == 0: return b\n",
    "\t\ta = b\n",
    "\t\tb = r"
   ]
  },
  {
   "cell_type": "code",
   "execution_count": 2,
   "metadata": {},
   "outputs": [
    {
     "data": {
      "text/plain": [
       "7"
      ]
     },
     "execution_count": 2,
     "metadata": {},
     "output_type": "execute_result"
    }
   ],
   "source": [
    "gcd(49, 224)"
   ]
  }
 ],
 "metadata": {
  "kernelspec": {
   "display_name": "Python 3.10.4 64-bit",
   "language": "python",
   "name": "python3"
  },
  "language_info": {
   "codemirror_mode": {
    "name": "ipython",
    "version": 3
   },
   "file_extension": ".py",
   "mimetype": "text/x-python",
   "name": "python",
   "nbconvert_exporter": "python",
   "pygments_lexer": "ipython3",
   "version": "3.10.4"
  },
  "orig_nbformat": 4,
  "vscode": {
   "interpreter": {
    "hash": "a468216b390d8086c6e68ce635f893df89c6726f4c4bec2701d169cb44bcbe63"
   }
  }
 },
 "nbformat": 4,
 "nbformat_minor": 2
}
