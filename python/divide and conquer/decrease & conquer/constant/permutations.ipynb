{
 "cells": [
  {
   "cell_type": "markdown",
   "metadata": {},
   "source": [
    "## Johnson-Trotter Algorithm\n",
    "The Johnson-Trotter algorithm is a method for finding permutations without needing to generate permutations of smaller lists.\n",
    "\n",
    "- Each element has an associated arrow, which is used to keep track of which permutation comes next\n",
    "- An element is \"mobile\" if it is greater than the adjacent element it's arrow points to\n",
    "- The first permutation is in ascending order with all arrows pointing left\n",
    "\n",
    "#### Algorithm\n",
    "- find largest mobile element k\n",
    "- swap k with the element it points to\n",
    "- reverse the direction of all elements larger than k\n",
    "- yield the permutation"
   ]
  },
  {
   "cell_type": "code",
   "execution_count": 1,
   "metadata": {},
   "outputs": [
    {
     "name": "stdout",
     "output_type": "stream",
     "text": [
      "(3, 4, 5)\n",
      "(3, 5, 4)\n",
      "(5, 3, 4)\n",
      "(5, 4, 3)\n",
      "(4, 5, 3)\n",
      "(4, 3, 5)\n"
     ]
    }
   ],
   "source": [
    "from math import factorial\n",
    "\n",
    "def permutations(start: int, end=None):\n",
    "\t\"\"\"Create iterator that returns tuples of all the permutations in a given range\"\"\"\n",
    "\tif end == None: end, start = start, 0 # If one value is passed use that as end and start from 0\n",
    "\t\n",
    "\tbase = [i for i in range(start, end)]\n",
    "\t# using booleans for arrows. True is <-, False is ->\n",
    "\tmobs = [True] * len(base)\n",
    "\t\n",
    "\tdef is_mobile(i: int):\n",
    "\t\tif mobs[i] and i > 0 and base[i] > base[i-1]: return True\n",
    "\t\tif not mobs[i] and i+1 < len(base) and base[i] > base[i+1]: return True\n",
    "\t\treturn False\n",
    "\n",
    "\tfor p in range(factorial(end - start)):\n",
    "\t\tyield (*base,)\n",
    "\t\tgreatest = start\n",
    "\t\tgreatest_pos = 0\n",
    "\t\tfor i in range(len(base)):\n",
    "\t\t\tif base[i] > greatest and is_mobile(i):\n",
    "\t\t\t\tgreatest = base[i]\n",
    "\t\t\t\tgreatest_pos = i\n",
    "\t\tif mobs[greatest_pos]:\n",
    "\t\t\tbase[greatest_pos], base[greatest_pos-1] = base[greatest_pos-1], base[greatest_pos]\n",
    "\t\t\tmobs[greatest_pos], mobs[greatest_pos-1] = mobs[greatest_pos-1], mobs[greatest_pos]\n",
    "\t\telse:\n",
    "\t\t\tbase[greatest_pos], base[greatest_pos+1] = base[greatest_pos+1], base[greatest_pos]\n",
    "\t\t\tmobs[greatest_pos], mobs[greatest_pos+1] = mobs[greatest_pos+1], mobs[greatest_pos]\n",
    "\t\tfor i in range(len(base)):\n",
    "\t\t\tif base[i] > greatest: mobs[i] = not mobs[i]\n",
    "\n",
    "for i in permutations(3, 6): print(i)"
   ]
  }
 ],
 "metadata": {
  "kernelspec": {
   "display_name": "Python 3.10.4 64-bit",
   "language": "python",
   "name": "python3"
  },
  "language_info": {
   "codemirror_mode": {
    "name": "ipython",
    "version": 3
   },
   "file_extension": ".py",
   "mimetype": "text/x-python",
   "name": "python",
   "nbconvert_exporter": "python",
   "pygments_lexer": "ipython3",
   "version": "3.10.4"
  },
  "orig_nbformat": 4,
  "vscode": {
   "interpreter": {
    "hash": "a468216b390d8086c6e68ce635f893df89c6726f4c4bec2701d169cb44bcbe63"
   }
  }
 },
 "nbformat": 4,
 "nbformat_minor": 2
}
