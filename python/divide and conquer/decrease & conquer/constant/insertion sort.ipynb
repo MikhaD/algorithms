{
 "cells": [
  {
   "cell_type": "code",
   "execution_count": 1,
   "metadata": {},
   "outputs": [],
   "source": [
    "def insertion_sort(arr: list[int]):\n",
    "\t\"\"\"Sort list in place\"\"\"\n",
    "\tfor i in range(1, len(arr)):\n",
    "\t\tj = i\n",
    "\t\twhile j > 0 and arr[j - 1] > arr[j]:\n",
    "\t\t\tarr[j - 1], arr[j] = arr[j], arr[j - 1]\n",
    "\t\t\tj -= 1"
   ]
  },
  {
   "cell_type": "code",
   "execution_count": 2,
   "metadata": {},
   "outputs": [
    {
     "name": "stdout",
     "output_type": "stream",
     "text": [
      "[99, 60, 55, 28, 71, 82, 68, 44, 87, 14, 1, 91, 64, 10, 77, 61, 67, 25, 21, 36]\n",
      "[1, 10, 14, 21, 25, 28, 36, 44, 55, 60, 61, 64, 67, 68, 71, 77, 82, 87, 91, 99]\n"
     ]
    }
   ],
   "source": [
    "from random import randint\n",
    "arr = [randint(0, 99) for _ in range(20)]\n",
    "print(arr)\n",
    "insertion_sort(arr)\n",
    "print(arr)"
   ]
  }
 ],
 "metadata": {
  "kernelspec": {
   "display_name": "Python 3.10.4 64-bit",
   "language": "python",
   "name": "python3"
  },
  "language_info": {
   "codemirror_mode": {
    "name": "ipython",
    "version": 3
   },
   "file_extension": ".py",
   "mimetype": "text/x-python",
   "name": "python",
   "nbconvert_exporter": "python",
   "pygments_lexer": "ipython3",
   "version": "3.10.4"
  },
  "orig_nbformat": 4,
  "vscode": {
   "interpreter": {
    "hash": "a468216b390d8086c6e68ce635f893df89c6726f4c4bec2701d169cb44bcbe63"
   }
  }
 },
 "nbformat": 4,
 "nbformat_minor": 2
}
