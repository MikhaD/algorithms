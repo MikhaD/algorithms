{
 "cells": [
  {
   "cell_type": "markdown",
   "metadata": {},
   "source": [
    "# Merge Sort"
   ]
  },
  {
   "cell_type": "code",
   "execution_count": 1,
   "metadata": {},
   "outputs": [],
   "source": [
    "def merge_sort(arr: list[int]):\n",
    "\tif len(arr) <= 1: return arr\n",
    "\ta = merge_sort(arr[:len(arr)//2])\n",
    "\tb = merge_sort(arr[len(arr)//2:])\n",
    "\tresult = []\n",
    "\twhile len(a) > 0 and len(b) > 0:\n",
    "\t\tresult.append(a.pop(0) if a[0] < b[0] else b.pop(0))\n",
    "\treturn result + a + b"
   ]
  },
  {
   "cell_type": "code",
   "execution_count": 5,
   "metadata": {},
   "outputs": [
    {
     "name": "stdout",
     "output_type": "stream",
     "text": [
      "[93, 97, 3, 48, 86, 54, 19, 98, 0, 64, 93, 44, 79, 68, 50, 78]\n",
      "[0, 3, 19, 44, 48, 50, 54, 64, 68, 78, 79, 86, 93, 93, 97, 98]\n"
     ]
    }
   ],
   "source": [
    "from random import randint\n",
    "arr = [randint(0, 99) for _ in range(16)]\n",
    "print(arr)\n",
    "print(merge_sort(arr))"
   ]
  }
 ],
 "metadata": {
  "kernelspec": {
   "display_name": "Python 3.10.4 64-bit",
   "language": "python",
   "name": "python3"
  },
  "language_info": {
   "codemirror_mode": {
    "name": "ipython",
    "version": 3
   },
   "file_extension": ".py",
   "mimetype": "text/x-python",
   "name": "python",
   "nbconvert_exporter": "python",
   "pygments_lexer": "ipython3",
   "version": "3.10.4"
  },
  "orig_nbformat": 4,
  "vscode": {
   "interpreter": {
    "hash": "a468216b390d8086c6e68ce635f893df89c6726f4c4bec2701d169cb44bcbe63"
   }
  }
 },
 "nbformat": 4,
 "nbformat_minor": 2
}
