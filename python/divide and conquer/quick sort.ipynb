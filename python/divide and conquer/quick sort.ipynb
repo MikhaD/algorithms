{
 "cells": [
  {
   "cell_type": "code",
   "execution_count": 1,
   "metadata": {},
   "outputs": [],
   "source": [
    "def quick_sort(arr: list[int]) -> list[int]:\n",
    "\tif len(arr) <= 1:\n",
    "\t\treturn arr\n",
    "\tpivot = arr[0]\n",
    "\tleft = []\n",
    "\tright = []\n",
    "\tfor i in arr:\n",
    "\t\tif i <= pivot:\n",
    "\t\t\tleft.append(i)\n",
    "\t\telse:\n",
    "\t\t\tright.append(i)\n",
    "\treturn quick_sort(left) + quick_sort(right)"
   ]
  },
  {
   "cell_type": "code",
   "execution_count": 2,
   "metadata": {},
   "outputs": [
    {
     "ename": "",
     "evalue": "",
     "output_type": "error",
     "traceback": [
      "\u001b[1;31mCanceled future for execute_request message before replies were done"
     ]
    },
    {
     "ename": "",
     "evalue": "",
     "output_type": "error",
     "traceback": [
      "\u001b[1;31mThe Kernel crashed while executing code in the the current cell or a previous cell. Please review the code in the cell(s) to identify a possible cause of the failure. Click <a href='https://aka.ms/vscodeJupyterKernelCrash'>here</a> for more info. View Jupyter <a href='command:jupyter.viewOutput'>log</a> for further details."
     ]
    }
   ],
   "source": [
    "from random import randint\n",
    "arr = [randint(0, 99) for _ in range(16)]\n",
    "print(arr)\n",
    "print(quick_sort(arr))"
   ]
  }
 ],
 "metadata": {
  "kernelspec": {
   "display_name": "Python 3.10.4 64-bit",
   "language": "python",
   "name": "python3"
  },
  "language_info": {
   "codemirror_mode": {
    "name": "ipython",
    "version": 3
   },
   "file_extension": ".py",
   "mimetype": "text/x-python",
   "name": "python",
   "nbconvert_exporter": "python",
   "pygments_lexer": "ipython3",
   "version": "3.10.4"
  },
  "orig_nbformat": 4,
  "vscode": {
   "interpreter": {
    "hash": "a468216b390d8086c6e68ce635f893df89c6726f4c4bec2701d169cb44bcbe63"
   }
  }
 },
 "nbformat": 4,
 "nbformat_minor": 2
}
