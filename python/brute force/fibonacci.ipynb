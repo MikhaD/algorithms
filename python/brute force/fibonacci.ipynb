{
 "cells": [
  {
   "cell_type": "markdown",
   "metadata": {},
   "source": [
    "# Brute Force Fibonacci\n",
    "The fibonacci sequence is a sequence of numbers where each number is the sum of the two numbers before it. The first two numbers are 0 and 1. The recurrence relation is $F(n) = F(n-1) + F(n-2)$. Writing the program like this is horrifically inefficient. All the lower numbers are calculated for each number, giving it an efficiency class of $\\theta(2^n)$. We look at it because it is a good example of a brute force algorithm.\n",
    "\n",
    "In the image below you can see repetition in the chain of function calls that causes this implementation to be so inefficient.\n",
    "\n",
    "\n",
    "<img src=\"https://raw.githubusercontent.com/MikhaD/algorithms/resources/img/fib_tree.svg?token=GHSAT0AAAAAAB2CEG7WHGS24URJYTDRPCC2Y4DSHIQ\" style=\"width: 500px\"/>\n",
    "\n",
    "The improved version using dynamic programming can be found [here](https://github.com/MikhaD/algorithms/blob/main/python/brute%20force/fibonacci.ipynb)."
   ]
  },
  {
   "cell_type": "code",
   "execution_count": 3,
   "metadata": {},
   "outputs": [],
   "source": [
    "def fib(n: int) -> int:\n",
    "\t\"\"\"Return the nth Fibonacci number. Using brute force.\"\"\"\n",
    "\tif n <= 1: return n\n",
    "\treturn fib(n - 1) + fib(n - 2)"
   ]
  },
  {
   "cell_type": "code",
   "execution_count": 20,
   "metadata": {},
   "outputs": [
    {
     "name": "stdout",
     "output_type": "stream",
     "text": [
      "6765\n",
      "75025\n",
      "832040\n",
      "9227465\n",
      "102334155\n"
     ]
    }
   ],
   "source": [
    "import timeit\n",
    "\n",
    "print(f\"fib(20): {timeit.timeit(lambda: fib(20), number=1):.4f}\")\n",
    "print(f\"fib(25): {timeit.timeit(lambda: fib(25), number=1):.4f}\")\n",
    "print(f\"fib(30): {timeit.timeit(lambda: fib(30), number=1):.4f}\")\n",
    "print(f\"fib(35): {timeit.timeit(lambda: fib(35), number=1):.4f}\")\n",
    "print(f\"fib(40): {timeit.timeit(lambda: fib(40), number=1):.4f}\")"
   ]
  }
 ],
 "metadata": {
  "kernelspec": {
   "display_name": "Python 3.10.4 64-bit",
   "language": "python",
   "name": "python3"
  },
  "language_info": {
   "codemirror_mode": {
    "name": "ipython",
    "version": 3
   },
   "file_extension": ".py",
   "mimetype": "text/x-python",
   "name": "python",
   "nbconvert_exporter": "python",
   "pygments_lexer": "ipython3",
   "version": "3.10.4"
  },
  "orig_nbformat": 4,
  "vscode": {
   "interpreter": {
    "hash": "a468216b390d8086c6e68ce635f893df89c6726f4c4bec2701d169cb44bcbe63"
   }
  }
 },
 "nbformat": 4,
 "nbformat_minor": 2
}
