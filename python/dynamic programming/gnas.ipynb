{
 "cells": [
  {
   "cell_type": "markdown",
   "metadata": {},
   "source": [
    "# Greatest sum of non adjacent elements\n",
    "You are given a row of integers. You can choose as many as you like except that you cannot take any 2 integers that are adjacent (next to each other). For example if the row has the values 4, 2, 8, 6 then you can take the 4 only if you take neither the 8 nor the 4, ... you can take the 6 only if you don't take the 8.\n",
    "\n",
    "1. State in words or pseudocode how you would use Dynamic programming to find the maximum value you can take.\n",
    "2. Show what the array would contain after solving the example [4, 2, 8, 6]. Maximum is 12 (take the 4 and the 8)."
   ]
  },
  {
   "cell_type": "code",
   "execution_count": 6,
   "metadata": {},
   "outputs": [],
   "source": [
    "def gna_sum(arr: list[int]) -> int:\n",
    "\tresults = [0, 0]\n",
    "\tfor i, el in enumerate(arr):\n",
    "\t\tresults.append(max(results[i]+el, results[i+1]))\n",
    "\treturn results[-1]"
   ]
  },
  {
   "cell_type": "code",
   "execution_count": 7,
   "metadata": {},
   "outputs": [
    {
     "name": "stdout",
     "output_type": "stream",
     "text": [
      "12\n",
      "20\n",
      "165\n",
      "731\n"
     ]
    }
   ],
   "source": [
    "print(gna_sum([4, 2, 8, 6]))\n",
    "print(gna_sum([2, 2, 1, 0, 2, 2, 1, 8, 5, 7]))\n",
    "print(gna_sum([15, 14, 11, 13, 24, 1, 5, 0, 1, 24, 8, 11, 7, 6, 19, 24, 14, 20, 12, 1, 6, 15, 3, 1, 9]))\n",
    "print(gna_sum([10, 84, 63, 85, 20, 15, 71, 1, 38, 53, 23, 90, 78, 47, 2, 61, 90, 8, 31, 72, 36, 36, 44, 29, 95]))"
   ]
  },
  {
   "cell_type": "code",
   "execution_count": 2,
   "metadata": {},
   "outputs": [],
   "source": [
    "from random import randint\n",
    "\n",
    "def random_range(size: int, max: int) -> list[int]:\n",
    "\tresult = []\n",
    "\tfor i in range(size):\n",
    "\t\tresult.append(randint(0, max-1))\n",
    "\treturn result"
   ]
  }
 ],
 "metadata": {
  "kernelspec": {
   "display_name": "Python 3.10.4 64-bit",
   "language": "python",
   "name": "python3"
  },
  "language_info": {
   "codemirror_mode": {
    "name": "ipython",
    "version": 3
   },
   "file_extension": ".py",
   "mimetype": "text/x-python",
   "name": "python",
   "nbconvert_exporter": "python",
   "pygments_lexer": "ipython3",
   "version": "3.10.4"
  },
  "orig_nbformat": 4,
  "vscode": {
   "interpreter": {
    "hash": "a468216b390d8086c6e68ce635f893df89c6726f4c4bec2701d169cb44bcbe63"
   }
  }
 },
 "nbformat": 4,
 "nbformat_minor": 2
}
