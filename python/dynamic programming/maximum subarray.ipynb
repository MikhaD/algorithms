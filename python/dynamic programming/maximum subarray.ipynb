{
 "cells": [
  {
   "cell_type": "markdown",
   "metadata": {},
   "source": [
    "# Maximum Subarray\n",
    "Given some array of numbers, find the contiguous subarray with the largest sum and return the sum. The largest sum can be zero if all numbers are negative, in which case the largest sub array is the empty array.\n",
    "\n",
    "**Examples**\n",
    "For the array [-2, 1, -3, 4, -1, 2, 1, -5, 4], the contiguous subarray [4, -1, 2, 1] has the largest sum = 6.\n",
    "\n",
    "For the array [1, -2, 4, -1, 5, -3], the contiguous subarray [4, -1, 5] has the largest sum = 8."
   ]
  },
  {
   "cell_type": "code",
   "execution_count": 1,
   "metadata": {},
   "outputs": [],
   "source": [
    "def max_sub_sum(array: list[int]) -> int:\n",
    "\ttotal = 0\n",
    "\tbest = 0\n",
    "\tfor n in array:\n",
    "\t\ttotal = max(total + n, n)\n",
    "\t\tbest = max(best, total)\n",
    "\treturn best"
   ]
  },
  {
   "cell_type": "code",
   "execution_count": 4,
   "metadata": {},
   "outputs": [
    {
     "name": "stdout",
     "output_type": "stream",
     "text": [
      "0\n",
      "23\n",
      "8\n",
      "6\n"
     ]
    }
   ],
   "source": [
    "print(max_sub_sum([-1, -2, -3]))\n",
    "print(max_sub_sum([5,4,-1,7,8]))\n",
    "print(max_sub_sum([1, -2, 4, -1, 5, -3]))\n",
    "print(max_sub_sum([-2, 1, -3, 4, -1, 2, 1, -5, 4]))"
   ]
  }
 ],
 "metadata": {
  "kernelspec": {
   "display_name": "Python 3.10.4 64-bit",
   "language": "python",
   "name": "python3"
  },
  "language_info": {
   "codemirror_mode": {
    "name": "ipython",
    "version": 3
   },
   "file_extension": ".py",
   "mimetype": "text/x-python",
   "name": "python",
   "nbconvert_exporter": "python",
   "pygments_lexer": "ipython3",
   "version": "3.10.4"
  },
  "orig_nbformat": 4,
  "vscode": {
   "interpreter": {
    "hash": "a468216b390d8086c6e68ce635f893df89c6726f4c4bec2701d169cb44bcbe63"
   }
  }
 },
 "nbformat": 4,
 "nbformat_minor": 2
}
