{
 "cells": [
  {
   "cell_type": "code",
   "execution_count": null,
   "metadata": {},
   "outputs": [],
   "source": [
    "def make_change(total: int, denominations: list[int]) -> int:\n",
    "\tif total == 0: return 0\n",
    "\toptions = []\n",
    "\tfor i in denominations:\n",
    "\t\tif i > total: break\n",
    "\t\toptions.append(make_change(total - i, denominations))\n",
    "\treturn min(options) + 1\n",
    "\t# return min([make_change(total - i, denominations) for i in denominations if i <= total]) + 1\n",
    "\n",
    "def change_combos(total: int, denominations: list[int]) -> int:\n",
    "\tif total == 0: return 0\n",
    "\toptions = 0\n",
    "\tfor i in denominations:\n",
    "\t\tif i > total: break\n",
    "\t\toptions += change_combos(total - i, denominations)\n",
    "\treturn options"
   ]
  },
  {
   "cell_type": "code",
   "execution_count": null,
   "metadata": {},
   "outputs": [],
   "source": [
    "print(make_change(14, [1, 7, 10]))\n",
    "print(make_change(30, [1, 10, 25]))"
   ]
  },
  {
   "cell_type": "code",
   "execution_count": null,
   "metadata": {},
   "outputs": [],
   "source": [
    "print(change_combos(8, [1, 5]))\n",
    "print(change_combos(10, [1, 5, 10]))"
   ]
  }
 ],
 "metadata": {
  "kernelspec": {
   "display_name": "Python 3.10.4 64-bit",
   "language": "python",
   "name": "python3"
  },
  "language_info": {
   "codemirror_mode": {
    "name": "ipython",
    "version": 3
   },
   "file_extension": ".py",
   "mimetype": "text/x-python",
   "name": "python",
   "nbconvert_exporter": "python",
   "pygments_lexer": "ipython3",
   "version": "3.10.4"
  },
  "orig_nbformat": 4,
  "vscode": {
   "interpreter": {
    "hash": "a468216b390d8086c6e68ce635f893df89c6726f4c4bec2701d169cb44bcbe63"
   }
  }
 },
 "nbformat": 4,
 "nbformat_minor": 2
}
