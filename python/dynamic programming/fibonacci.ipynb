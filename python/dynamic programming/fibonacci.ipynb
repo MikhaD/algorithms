{
 "cells": [
  {
   "cell_type": "markdown",
   "metadata": {},
   "source": [
    "# Dynamic Programming Fibonacci\n",
    "Using the memoization technique to store the pervious two fibonacci numbers makes fibonacci drastically more efficient and changes the efficiency class from $\\theta(2^n)$ to $\\theta(n)$. Compare the runtime for this function to the brute force version over [here](https://github.com/mikhad/algorithms/blob/main/brute%20force/fibonacci.ipynb)."
   ]
  },
  {
   "cell_type": "code",
   "execution_count": null,
   "metadata": {},
   "outputs": [],
   "source": [
    "def fib(n: int) -> int:\n",
    "\tif n <= 1: return n\n",
    "\tprev: int = 0\n",
    "\tcurrent: int = 1\n",
    "\tfor _ in range(1, n):\n",
    "\t\tprev, current = current, prev + current\n",
    "\treturn current"
   ]
  },
  {
   "cell_type": "code",
   "execution_count": null,
   "metadata": {},
   "outputs": [],
   "source": [
    "import timeit\n",
    "\n",
    "print(f\"fib(20): {timeit.timeit(lambda: fib(20), number=1):.4f}\")\n",
    "print(f\"fib(25): {timeit.timeit(lambda: fib(25), number=1):.4f}\")\n",
    "print(f\"fib(30): {timeit.timeit(lambda: fib(30), number=1):.4f}\")\n",
    "print(f\"fib(35): {timeit.timeit(lambda: fib(35), number=1):.4f}\")\n",
    "print(f\"fib(40): {timeit.timeit(lambda: fib(40), number=1):.4f}\")\n",
    "print(f\"fib(100): {timeit.timeit(lambda: fib(100), number=1):.4f}\")\n",
    "print(f\"fib(1000): {timeit.timeit(lambda: fib(1000), number=1):.4f}\")\n",
    "print(f\"fib(1000000): {timeit.timeit(lambda: fib(1000000), number=1):.4f}\")"
   ]
  }
 ],
 "metadata": {
  "kernelspec": {
   "display_name": "Python 3.10.4 64-bit",
   "language": "python",
   "name": "python3"
  },
  "language_info": {
   "codemirror_mode": {
    "name": "ipython",
    "version": 3
   },
   "file_extension": ".py",
   "mimetype": "text/x-python",
   "name": "python",
   "nbconvert_exporter": "python",
   "pygments_lexer": "ipython3",
   "version": "3.10.4"
  },
  "orig_nbformat": 4,
  "vscode": {
   "interpreter": {
    "hash": "a468216b390d8086c6e68ce635f893df89c6726f4c4bec2701d169cb44bcbe63"
   }
  }
 },
 "nbformat": 4,
 "nbformat_minor": 2
}
