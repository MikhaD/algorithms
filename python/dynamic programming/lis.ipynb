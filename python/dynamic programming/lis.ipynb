{
 "cells": [
  {
   "cell_type": "markdown",
   "metadata": {},
   "source": [
    "# Longest Increasing Subsequence\n",
    "Given some list of numbers, find the longest increasing subsequence. For example, given the list `[3, 4, -1, 0, 6, 2, 3]`, the longest increasing subsequence is `[-1, 0, 2, 3]`, which has length 4.\n",
    "An increasing subsequence is a subsequence of a list in which the elements are in increasing order, and in which the indices of the elements are increasing. For example, `[3, 4, -1, 0, 6, 2, 3]` has many increasing subsequences: `[3]`, `[4]`, `[-1, 6]`, `[-1, 0, 6]`, `[-1, 0, 2, 3]` etc.\n",
    "\n",
    "To do this we need figure out the longest increasing subsequence ending at each element in the array by taking the maximum of the longest increasing subsequences ending at each preceding element that is less than it. "
   ]
  },
  {
   "cell_type": "code",
   "execution_count": 2,
   "metadata": {},
   "outputs": [],
   "source": [
    "def lis(arr: list[int]) -> int:\n",
    "\tlis_lengths = [1] * len(arr)\n",
    "\tfor i, val in enumerate(arr):\n",
    "\t\tsub_problems = [lis_lengths[j] for j in range(i) if arr[j] < val]\n",
    "\t\tlis_lengths[i] = 1 + max(sub_problems, default=0)\n",
    "\treturn max(lis_lengths, default=0)"
   ]
  },
  {
   "cell_type": "code",
   "execution_count": 3,
   "metadata": {},
   "outputs": [
    {
     "name": "stdout",
     "output_type": "stream",
     "text": [
      "4\n"
     ]
    }
   ],
   "source": [
    "print(lis([3, 4, -1, 0, 6, 2, 3]))"
   ]
  }
 ],
 "metadata": {
  "kernelspec": {
   "display_name": "Python 3.10.4 64-bit",
   "language": "python",
   "name": "python3"
  },
  "language_info": {
   "codemirror_mode": {
    "name": "ipython",
    "version": 3
   },
   "file_extension": ".py",
   "mimetype": "text/x-python",
   "name": "python",
   "nbconvert_exporter": "python",
   "pygments_lexer": "ipython3",
   "version": "3.10.4"
  },
  "orig_nbformat": 4,
  "vscode": {
   "interpreter": {
    "hash": "a468216b390d8086c6e68ce635f893df89c6726f4c4bec2701d169cb44bcbe63"
   }
  }
 },
 "nbformat": 4,
 "nbformat_minor": 2
}
