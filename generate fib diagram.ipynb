{
 "cells": [
  {
   "cell_type": "code",
   "execution_count": 2,
   "metadata": {},
   "outputs": [],
   "source": [
    "from functools import cache, cached_property\n",
    "import string\n",
    "from typing import Literal\n",
    "\n",
    "class Fib:\n",
    "\t__value: int\n",
    "\tdef __init__(self, n: int):\n",
    "\t\tself.__value = n\n",
    "\t\n",
    "\t@property\n",
    "\tdef value(self) -> int: return self.__value\n",
    "\t\n",
    "\t@staticmethod\n",
    "\tdef node_id(node: int, memo: dict[int, int]) -> str:\n",
    "\t\treturn memo.get(node, 1) * string.ascii_letters[node]\n",
    "\n",
    "\t@cache\n",
    "\t@staticmethod\n",
    "\tdef fib(n: int) -> int:\n",
    "\t\t\"\"\"Efficient caching function to return the nth Fibonacci number.\"\"\"\n",
    "\t\tif n < 2: return n\n",
    "\t\tprev, current = 0, 1\n",
    "\t\tfor _ in range(n-1):\n",
    "\t\t\tprev, current = current, prev + current\n",
    "\t\treturn current\n",
    "\n",
    "\t@cached_property\n",
    "\tdef __memo(self) -> dict[int, int]:\n",
    "\t\t\"\"\"\n",
    "\t\tReturn a dictionary of the number of times the fibonacci function is called for each n value\n",
    "\t\twhen using the brute force version of the algorithm.\n",
    "\t\t\"\"\"\n",
    "\t\tresult = {}\n",
    "\t\tfor i in range(self.value, 0, -1):\n",
    "\t\t\tresult[i] = Fib.fib((self.value-i) + 1)\n",
    "\t\tresult[0] = Fib.fib(self.value-1)\n",
    "\t\treturn result\n",
    "\t\n",
    "\t@cached_property\n",
    "\tdef __nodes(self) -> list[str]:\n",
    "\t\t\"\"\"\n",
    "\t\tReturn a list of strings representing the nodes in the mermaid graph for the tree for this\n",
    "\t\tfibonacci number.\n",
    "\t\t\"\"\"\n",
    "\t\tresult = []\n",
    "\t\tfor v in self.__memo:\n",
    "\t\t\tfor j in range(1, self.__memo[v]+1):\n",
    "\t\t\t\tresult.append(f\"{j*string.ascii_lowercase[v]}[\\\"f({v})\\\"];\")\n",
    "\t\treturn result\n",
    "\t\n",
    "\t@cached_property\n",
    "\tdef __edges(self) -> list[str]:\n",
    "\t\t\"\"\"\n",
    "\t\tReturn a list of strings representing the edges in a mermaid graph for a given fibonacci memo.\n",
    "\t\t\"\"\"\n",
    "\t\tresult = []\n",
    "\t\tparents = {}\n",
    "\t\tchildren = {}\n",
    "\t\tfor v in self.__memo:\n",
    "\t\t\tif v < 2: continue\n",
    "\t\t\tfor _ in range(1, self.__memo[v] + 1):\n",
    "\t\t\t\tresult.append(f\"{Fib.node_id(v, parents)} --> {Fib.node_id(v-1, children)} & {Fib.node_id(v-2, children)};\")\n",
    "\t\t\t\tif v not in parents: parents[v] = 1\n",
    "\t\t\t\tparents[v] += 1\n",
    "\t\t\t\tif v-1 not in children: children[v-1] = 1\n",
    "\t\t\t\tif v-2 not in children: children[v-2] = 1\n",
    "\t\t\t\tchildren[v-1] += 1\n",
    "\t\t\t\tchildren[v-2] += 1\n",
    "\t\treturn result\n",
    "\t\n",
    "\tdef graph(self, direction: Literal[\"LR\", \"RL\", \"TB\", \"BT\"] = \"TB\") -> str:\n",
    "\t\t\"\"\"\n",
    "\t\tReturn a mermaid graph of the fibonacci function.\n",
    "\t\t\"\"\"\n",
    "\t\treturn f\"graph {direction}\\n\" + \"\\n\".join(self.__nodes + self.__edges)\n",
    "\t\n",
    "\tdef base64_string(self, direction: Literal[\"LR\", \"RL\", \"TB\", \"BT\"] = \"TB\") -> str:\n",
    "\t\t\"\"\"\n",
    "\t\tReturn a base64 encoded mermaid graph of the fibonacci function.\n",
    "\t\t\"\"\"\n",
    "\t\timport base64\n",
    "\t\treturn base64.b64encode(self.graph(direction).encode(\"ascii\")).decode(\"ascii\")"
   ]
  },
  {
   "cell_type": "code",
   "execution_count": 11,
   "metadata": {},
   "outputs": [
    {
     "data": {
      "text/html": [
       "<img src=\"https://mermaid.ink/img/Z3JhcGggVEIKZlsiZig1KSJdOwplWyJmKDQpIl07CmRbImYoMykiXTsKZGRbImYoMykiXTsKY1siZigyKSJdOwpjY1siZigyKSJdOwpjY2NbImYoMikiXTsKYlsiZigxKSJdOwpiYlsiZigxKSJdOwpiYmJbImYoMSkiXTsKYmJiYlsiZigxKSJdOwpiYmJiYlsiZigxKSJdOwphWyJmKDApIl07CmFhWyJmKDApIl07CmFhYVsiZigwKSJdOwpmIC0tPiBlICYgZDsKZSAtLT4gZGQgJiBjOwpkIC0tPiBjYyAmIGI7CmRkIC0tPiBjY2MgJiBiYjsKYyAtLT4gYmJiICYgYTsKY2MgLS0+IGJiYmIgJiBhYTsKY2NjIC0tPiBiYmJiYiAmIGFhYTs=\"/>"
      ],
      "text/plain": [
       "<IPython.core.display.Image object>"
      ]
     },
     "metadata": {},
     "output_type": "display_data"
    },
    {
     "name": "stdout",
     "output_type": "stream",
     "text": [
      "graph TB\n",
      "f[\"f(5)\"];\n",
      "e[\"f(4)\"];\n",
      "d[\"f(3)\"];\n",
      "dd[\"f(3)\"];\n",
      "c[\"f(2)\"];\n",
      "cc[\"f(2)\"];\n",
      "ccc[\"f(2)\"];\n",
      "b[\"f(1)\"];\n",
      "bb[\"f(1)\"];\n",
      "bbb[\"f(1)\"];\n",
      "bbbb[\"f(1)\"];\n",
      "bbbbb[\"f(1)\"];\n",
      "a[\"f(0)\"];\n",
      "aa[\"f(0)\"];\n",
      "aaa[\"f(0)\"];\n",
      "f --> e & d;\n",
      "e --> dd & c;\n",
      "d --> cc & b;\n",
      "dd --> ccc & bb;\n",
      "c --> bbb & a;\n",
      "cc --> bbbb & aa;\n",
      "ccc --> bbbbb & aaa;\n"
     ]
    }
   ],
   "source": [
    "from IPython.display import Image, display\n",
    "\n",
    "f = Fib(5)\n",
    "display(Image(url=\"https://mermaid.ink/img/\" + f.base64_string()))"
   ]
  }
 ],
 "metadata": {
  "kernelspec": {
   "display_name": "Python 3.11.0 64-bit",
   "language": "python",
   "name": "python3"
  },
  "language_info": {
   "codemirror_mode": {
    "name": "ipython",
    "version": 3
   },
   "file_extension": ".py",
   "mimetype": "text/x-python",
   "name": "python",
   "nbconvert_exporter": "python",
   "pygments_lexer": "ipython3",
   "version": "3.11.0"
  },
  "orig_nbformat": 4,
  "vscode": {
   "interpreter": {
    "hash": "67ef567f48cb4ed203e6ad076be280881c9aa093c0120aef856f09396d7c1a14"
   }
  }
 },
 "nbformat": 4,
 "nbformat_minor": 2
}
